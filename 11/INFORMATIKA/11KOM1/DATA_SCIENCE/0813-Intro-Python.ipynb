{
 "cells": [
  {
   "cell_type": "markdown",
   "id": "64c9ed05",
   "metadata": {},
   "source": [
    "# Number and Operators"
   ]
  },
  {
   "cell_type": "code",
   "execution_count": 2,
   "id": "64261f1e",
   "metadata": {},
   "outputs": [
    {
     "name": "stdout",
     "output_type": "stream",
     "text": [
      "<class 'int'>\n",
      "<class 'float'>\n",
      "0.6666666666666666\n",
      "0\n"
     ]
    }
   ],
   "source": [
    "a = 13 # int\n",
    "b = 20.45 # float\n",
    "\n",
    "print(type(a))\n",
    "print(type(b))\n",
    "\n",
    "print(2/3)\n",
    "print(2//3)"
   ]
  },
  {
   "cell_type": "code",
   "execution_count": 3,
   "id": "f7e3b68c",
   "metadata": {},
   "outputs": [
    {
     "name": "stdout",
     "output_type": "stream",
     "text": [
      "2 + 2 is 4\n",
      "3 * 4 is 12\n",
      "100 - 1 is 99\n",
      "(33 + 2) / 5 + 11.5 is 18.5\n",
      "Firstish Grade\n",
      "1 + 1 = 2\n",
      "2 + 4 = 6\n",
      "5 - 2 = 3\n",
      "\n",
      "Thirdish Grade\n",
      "243 - 23 = 220\n",
      "12 * 4 = 48\n",
      "12 / 3 = 4.0\n",
      "13 / 3 = 4 R 1\n",
      "\n",
      "Junior High\n",
      "123.56 - 62.12 = 61.440000000000005\n",
      "(4 + 3) * 2 = 14\n",
      "4 + 3 * 2 = 10\n",
      "3 ** 2 = 9\n"
     ]
    }
   ],
   "source": [
    "print(\"2 + 2 is\", 2 + 2)\n",
    "print(\"3 * 4 is\", 3 * 4)\n",
    "print(\"100 - 1 is\", 100 - 1)\n",
    "print(\"(33 + 2) / 5 + 11.5 is\", (33 + 2) / 5 + 11.5)\n",
    "\n",
    "\n",
    "print(\"Firstish Grade\")\n",
    "print(\"1 + 1 =\", 1 + 1)\n",
    "print(\"2 + 4 =\", 2 + 4)\n",
    "print(\"5 - 2 =\", 5 - 2)\n",
    "print()\n",
    "print(\"Thirdish Grade\")\n",
    "print(\"243 - 23 =\", 243 - 23)\n",
    "print(\"12 * 4 =\", 12 * 4)\n",
    "print(\"12 / 3 =\", 12 / 3)\n",
    "print(\"13 / 3 =\", 13 // 3, \"R\", 13 % 3)\n",
    "print()\n",
    "print(\"Junior High\")\n",
    "print(\"123.56 - 62.12 =\", 123.56 - 62.12)\n",
    "print(\"(4 + 3) * 2 =\", (4 + 3) * 2)\n",
    "print(\"4 + 3 * 2 =\", 4 + 3 * 2)\n",
    "print(\"3 ** 2 =\", 3 ** 2)"
   ]
  },
  {
   "cell_type": "markdown",
   "id": "abb1f303",
   "metadata": {},
   "source": [
    "# Math Function using Numpy"
   ]
  },
  {
   "cell_type": "code",
   "execution_count": 15,
   "id": "e8bc68a0",
   "metadata": {},
   "outputs": [],
   "source": [
    "import numpy as np"
   ]
  },
  {
   "cell_type": "code",
   "execution_count": 16,
   "id": "9356c0da",
   "metadata": {},
   "outputs": [
    {
     "name": "stdout",
     "output_type": "stream",
     "text": [
      "3.141592653589793\n",
      "2.718281828459045\n",
      "2.718281828459045\n"
     ]
    }
   ],
   "source": [
    "# Constance\n",
    "\n",
    "print(np.pi)\n",
    "print(np.e)\n",
    "print(np.exp(1))"
   ]
  },
  {
   "cell_type": "markdown",
   "id": "f1f282d2",
   "metadata": {},
   "source": [
    "## Rate & Distance Problem"
   ]
  },
  {
   "cell_type": "code",
   "execution_count": 17,
   "id": "d9605ace",
   "metadata": {},
   "outputs": [
    {
     "name": "stdout",
     "output_type": "stream",
     "text": [
      "Input a rate and a distance\n",
      "Rate: 10\n",
      "Distance: 10\n",
      "Time: 1.0\n"
     ]
    }
   ],
   "source": [
    "print(\"Input a rate and a distance\")\n",
    "rate = float(input(\"Rate: \"))\n",
    "distance = float(input(\"Distance: \"))\n",
    "time=(distance/ rate)\n",
    "print(\"Time:\", time)"
   ]
  },
  {
   "cell_type": "markdown",
   "id": "87a42d74",
   "metadata": {},
   "source": [
    "## Area & Perimeter of Circle"
   ]
  },
  {
   "cell_type": "code",
   "execution_count": 18,
   "id": "1c7ae639",
   "metadata": {},
   "outputs": [
    {
     "name": "stdout",
     "output_type": "stream",
     "text": [
      "Radius: 100\n",
      "Area is 31415.926535897932  and Perimeter is 628.3185307179587\n"
     ]
    }
   ],
   "source": [
    "radius = float(input(\"Radius: \"))\n",
    "area = np.pi * radius * radius\n",
    "perimeter = 2 * np.pi * radius\n",
    "\n",
    "print(\"Area is\", area,\" and Perimeter is\", perimeter)"
   ]
  },
  {
   "cell_type": "markdown",
   "id": "3e6cfeb8",
   "metadata": {},
   "source": [
    "## Calculating with Variables"
   ]
  },
  {
   "cell_type": "code",
   "execution_count": 19,
   "id": "7153bc7d",
   "metadata": {},
   "outputs": [
    {
     "name": "stdout",
     "output_type": "stream",
     "text": [
      "2661.6108980682593\n"
     ]
    }
   ],
   "source": [
    "'''\n",
    "where is the annual interest rate and \n",
    "is the compounding frequency. \n",
    "For example, if you deposit $2,100 in a \n",
    "bank paying an annual interest rate of 3.4% \n",
    "compounded four times a year, \n",
    "we can compute the balance after 7 years:\n",
    "'''\n",
    "P = 2100\n",
    "r = 0.034\n",
    "n = 4\n",
    "t = 7\n",
    "\n",
    "V = P * (1 + r/n)**(n*t)\n",
    "print(V)"
   ]
  },
  {
   "cell_type": "code",
   "execution_count": 28,
   "id": "a07ef33b",
   "metadata": {},
   "outputs": [
    {
     "name": "stdout",
     "output_type": "stream",
     "text": [
      "0.49999999999999994\n",
      "0.49999999999999994\n"
     ]
    }
   ],
   "source": [
    "print(np.sin(np.pi/6))\n",
    "print(np.sin(np.radians(30)))"
   ]
  },
  {
   "cell_type": "markdown",
   "id": "d6f812e5",
   "metadata": {},
   "source": [
    "## Computer Algebra System using Sympy"
   ]
  },
  {
   "cell_type": "code",
   "execution_count": 29,
   "id": "c1c60185",
   "metadata": {},
   "outputs": [],
   "source": [
    "import sympy as sp"
   ]
  },
  {
   "cell_type": "code",
   "execution_count": 30,
   "id": "65aae8e5",
   "metadata": {},
   "outputs": [],
   "source": [
    "# !pip install sympy"
   ]
  },
  {
   "cell_type": "code",
   "execution_count": 31,
   "id": "4bc27239",
   "metadata": {},
   "outputs": [
    {
     "name": "stdout",
     "output_type": "stream",
     "text": [
      "5*x**4/2\n"
     ]
    }
   ],
   "source": [
    "x = sp.symbols('x')\n",
    "f = 5 * (x ** 4) / 2\n",
    "print(f)"
   ]
  },
  {
   "cell_type": "code",
   "execution_count": 32,
   "id": "ce643c43",
   "metadata": {},
   "outputs": [
    {
     "name": "stdout",
     "output_type": "stream",
     "text": [
      "   4\n",
      "5⋅x \n",
      "────\n",
      " 2  \n"
     ]
    }
   ],
   "source": [
    "sp.pprint(f)"
   ]
  },
  {
   "cell_type": "code",
   "execution_count": 34,
   "id": "7fd03abc",
   "metadata": {},
   "outputs": [
    {
     "name": "stdout",
     "output_type": "stream",
     "text": [
      "    3\n",
      "10⋅x \n"
     ]
    }
   ],
   "source": [
    "turunan = sp.diff(f, x)\n",
    "sp.pprint(turunan)"
   ]
  },
  {
   "cell_type": "code",
   "execution_count": 35,
   "id": "4fd524c3",
   "metadata": {},
   "outputs": [
    {
     "name": "stdout",
     "output_type": "stream",
     "text": [
      "640\n"
     ]
    }
   ],
   "source": [
    "value_at_4 = turunan.subs(x, 4)\n",
    "print(value_at_4)"
   ]
  },
  {
   "cell_type": "code",
   "execution_count": 36,
   "id": "1e9e1816",
   "metadata": {},
   "outputs": [
    {
     "name": "stdout",
     "output_type": "stream",
     "text": [
      "640\n"
     ]
    }
   ],
   "source": [
    "func = sp.lambdify(x, turunan)\n",
    "print(func(4))"
   ]
  },
  {
   "cell_type": "markdown",
   "id": "b181838a",
   "metadata": {},
   "source": [
    "## Difference between trigonometry in Numpy and Sympy"
   ]
  },
  {
   "cell_type": "code",
   "execution_count": 37,
   "id": "9dbfc819",
   "metadata": {},
   "outputs": [
    {
     "name": "stdout",
     "output_type": "stream",
     "text": [
      "Menurut SymPy, sin(pi) = 0\n"
     ]
    }
   ],
   "source": [
    "print(\"Menurut SymPy, sin(pi) = \" + str(sp.sin(sp.pi)))"
   ]
  },
  {
   "cell_type": "code",
   "execution_count": 38,
   "id": "d5153dbb",
   "metadata": {},
   "outputs": [
    {
     "name": "stdout",
     "output_type": "stream",
     "text": [
      "Menurut NumPy, sin(pi) = 1.2246467991473532e-16\n"
     ]
    }
   ],
   "source": [
    "print(\"Menurut NumPy, sin(pi) = \" + str(np.sin(np.pi)))"
   ]
  },
  {
   "cell_type": "code",
   "execution_count": 39,
   "id": "3233a625",
   "metadata": {},
   "outputs": [
    {
     "name": "stdout",
     "output_type": "stream",
     "text": [
      "Fungsinya:\n",
      " 2           -5⋅x\n",
      "x ⋅cos(x) + ℯ    \n",
      "Turunannya:\n",
      "   2                          -5⋅x\n",
      "- x ⋅sin(x) + 2⋅x⋅cos(x) - 5⋅ℯ    \n"
     ]
    }
   ],
   "source": [
    "g = x**2 * sp.cos(x) + sp.exp(-5*x)\n",
    "print(\"Fungsinya:\")\n",
    "sp.pprint(g)\n",
    "\n",
    "gp = sp.diff(g, x)\n",
    "print(\"Turunannya:\")\n",
    "sp.pprint(gp)"
   ]
  },
  {
   "cell_type": "markdown",
   "id": "e82030e6",
   "metadata": {},
   "source": [
    "### Latihan 1"
   ]
  },
  {
   "cell_type": "code",
   "execution_count": 40,
   "id": "10bfa37c",
   "metadata": {
    "scrolled": true
   },
   "outputs": [
    {
     "name": "stdout",
     "output_type": "stream",
     "text": [
      "             -0.166666666666667\n",
      "⎛   6      4⎞                  \n",
      "⎝3⋅x  + 5⋅x ⎠                  \n"
     ]
    }
   ],
   "source": [
    "f1 = 1 / (sp.Pow( 5*x**4 + 3*x**6 , 1/6))\n",
    "sp.pprint(f1)"
   ]
  },
  {
   "cell_type": "code",
   "execution_count": 44,
   "id": "034b2d5d",
   "metadata": {},
   "outputs": [
    {
     "name": "stdout",
     "output_type": "stream",
     "text": [
      "(-3.0*x**5 - 3.33333333333333*x**3)/(3*x**6 + 5*x**4)**1.16666666666667\n"
     ]
    }
   ],
   "source": [
    "f1p = sp.diff(f1, x)\n",
    "# sp.pprint(f1p)\n",
    "print(f1p)"
   ]
  }
 ],
 "metadata": {
  "kernelspec": {
   "display_name": "Python 3 (ipykernel)",
   "language": "python",
   "name": "python3"
  },
  "language_info": {
   "codemirror_mode": {
    "name": "ipython",
    "version": 3
   },
   "file_extension": ".py",
   "mimetype": "text/x-python",
   "name": "python",
   "nbconvert_exporter": "python",
   "pygments_lexer": "ipython3",
   "version": "3.11.5"
  }
 },
 "nbformat": 4,
 "nbformat_minor": 5
}
