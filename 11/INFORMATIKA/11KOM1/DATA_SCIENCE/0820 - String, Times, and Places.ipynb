{
 "cells": [
  {
   "cell_type": "markdown",
   "id": "4b7e261d",
   "metadata": {},
   "source": [
    "# String"
   ]
  },
  {
   "cell_type": "code",
   "execution_count": 4,
   "id": "1cd4b0e5",
   "metadata": {},
   "outputs": [
    {
     "name": "stdout",
     "output_type": "stream",
     "text": [
      "budi\n",
      "Budi\n",
      "BUDI\n",
      "budi\n",
      "4\n"
     ]
    }
   ],
   "source": [
    "username = \"budi\"\n",
    "print(username)\n",
    "print(username.title())\n",
    "print(username.upper())\n",
    "print(username.lower())\n",
    "print(len(username))"
   ]
  },
  {
   "cell_type": "code",
   "execution_count": 8,
   "id": "2e247270",
   "metadata": {},
   "outputs": [
    {
     "name": "stdout",
     "output_type": "stream",
     "text": [
      "Fullname : budi susilo\n",
      "Fullname : budi susilo\n",
      "Fullname : budi susilo\n"
     ]
    }
   ],
   "source": [
    "first = \"budi\"\n",
    "last = \"susilo\"\n",
    "\n",
    "print(\"Fullname :\", first, last)\n",
    "print(\"Fullname : \" + first + \" \"+ last)\n",
    "print(f\"Fullname : {first} {last}\")"
   ]
  },
  {
   "cell_type": "code",
   "execution_count": null,
   "id": "102fc17c",
   "metadata": {},
   "outputs": [],
   "source": [
    "given = 'William'\n",
    "middle = 'Sealy'\n",
    "family = 'Gosset'\n",
    "\n",
    "# Output 1\n",
    "# William Sealy Gosset\n",
    "\n",
    "\n",
    "# Output 2\n",
    "# Gosset, William Sealy"
   ]
  },
  {
   "cell_type": "markdown",
   "id": "18cdf4eb",
   "metadata": {},
   "source": [
    "## Casting"
   ]
  },
  {
   "cell_type": "code",
   "execution_count": 4,
   "id": "fedc9de5",
   "metadata": {},
   "outputs": [
    {
     "name": "stdout",
     "output_type": "stream",
     "text": [
      "<class 'str'>\n"
     ]
    },
    {
     "data": {
      "text/plain": [
       "223"
      ]
     },
     "execution_count": 4,
     "metadata": {},
     "output_type": "execute_result"
    }
   ],
   "source": [
    "not_number = '123'\n",
    "print(type(not_number))\n",
    "int(not_number) + 100"
   ]
  },
  {
   "cell_type": "code",
   "execution_count": 6,
   "id": "2d6a8926",
   "metadata": {},
   "outputs": [
    {
     "name": "stdout",
     "output_type": "stream",
     "text": [
      "<class 'str'>\n",
      "103.14159\n"
     ]
    }
   ],
   "source": [
    "not_float = '3.14159'\n",
    "print(type(not_float))\n",
    "print(float(not_float) + 100)"
   ]
  },
  {
   "cell_type": "code",
   "execution_count": 8,
   "id": "e870f07d",
   "metadata": {},
   "outputs": [
    {
     "name": "stdout",
     "output_type": "stream",
     "text": [
      "Error\n"
     ]
    }
   ],
   "source": [
    "try:\n",
    "    int(not_float)\n",
    "except:\n",
    "    print(\"Error\")"
   ]
  },
  {
   "cell_type": "markdown",
   "id": "eb1c14d0",
   "metadata": {},
   "source": [
    "## Handling Error"
   ]
  },
  {
   "cell_type": "code",
   "execution_count": 11,
   "id": "b1499998",
   "metadata": {},
   "outputs": [
    {
     "name": "stdout",
     "output_type": "stream",
     "text": [
      "Enter your guess number : cat\n",
      "Please, enter a number!\n",
      "done.\n"
     ]
    }
   ],
   "source": [
    "number = 10\n",
    "\n",
    "try: \n",
    "    guess = int(input(\"Enter your guess number : \"))\n",
    "except :\n",
    "    print(\"Please, enter a number!\")\n",
    "else:\n",
    "    if guess == number:\n",
    "        print(\"Nice!\")\n",
    "    else:\n",
    "        print(\"Nice Try!!\")\n",
    "finally:\n",
    "    print(\"done.\")"
   ]
  },
  {
   "cell_type": "code",
   "execution_count": 20,
   "id": "33e55c87",
   "metadata": {},
   "outputs": [
    {
     "name": "stdout",
     "output_type": "stream",
     "text": [
      "Input A : 90\n",
      "Input B : ana\n",
      "Masukkan hanya data angka.\n"
     ]
    }
   ],
   "source": [
    "try:\n",
    "    a = int(input(\"Input A : \"))\n",
    "    b = int(input(\"Input B : \"))\n",
    "    print(f\"Hasil = {a // b} dan Sisa = {a % b}\")\n",
    "    \n",
    "except ValueError:\n",
    "    print(\"Masukkan hanya data angka.\")\n",
    "\n",
    "except ZeroDivisionError:\n",
    "    print(\"Tidak bisa membagi angka dengan nol.\")"
   ]
  },
  {
   "cell_type": "markdown",
   "id": "c5c7b992",
   "metadata": {},
   "source": [
    "# Times"
   ]
  },
  {
   "cell_type": "code",
   "execution_count": 24,
   "id": "ee22dc8c",
   "metadata": {},
   "outputs": [],
   "source": [
    "import pandas as pd"
   ]
  },
  {
   "cell_type": "code",
   "execution_count": 25,
   "id": "e139cabb",
   "metadata": {},
   "outputs": [
    {
     "data": {
      "text/plain": [
       "pandas._libs.tslibs.timestamps.Timestamp"
      ]
     },
     "execution_count": 25,
     "metadata": {},
     "output_type": "execute_result"
    }
   ],
   "source": [
    "time = pd.Timestamp('06:30:00')\n",
    "type(time)"
   ]
  },
  {
   "cell_type": "code",
   "execution_count": 26,
   "id": "92e5794a",
   "metadata": {},
   "outputs": [
    {
     "data": {
      "text/plain": [
       "Timestamp('2000-08-20 00:00:00')"
      ]
     },
     "execution_count": 26,
     "metadata": {},
     "output_type": "execute_result"
    }
   ],
   "source": [
    "date_of_birth = pd.Timestamp('August 20, 2000')\n",
    "date_of_birth"
   ]
  },
  {
   "cell_type": "code",
   "execution_count": 27,
   "id": "a1dd6b0c",
   "metadata": {},
   "outputs": [
    {
     "data": {
      "text/plain": [
       "Timestamp('2024-08-26 11:12:45.450600')"
      ]
     },
     "execution_count": 27,
     "metadata": {},
     "output_type": "execute_result"
    }
   ],
   "source": [
    "now = pd.Timestamp.now()\n",
    "now"
   ]
  },
  {
   "cell_type": "code",
   "execution_count": 30,
   "id": "53bc5b07",
   "metadata": {},
   "outputs": [
    {
     "data": {
      "text/plain": [
       "Timedelta('8772 days 11:12:45.450600')"
      ]
     },
     "execution_count": 30,
     "metadata": {},
     "output_type": "execute_result"
    }
   ],
   "source": [
    "age = now - date_of_birth\n",
    "age"
   ]
  },
  {
   "cell_type": "code",
   "execution_count": 35,
   "id": "ec3f218a",
   "metadata": {},
   "outputs": [
    {
     "name": "stdout",
     "output_type": "stream",
     "text": [
      "Days : 8772\n",
      "Seconds : 40365\n"
     ]
    }
   ],
   "source": [
    "print(f'Days : {age.days}')\n",
    "print(f'Seconds : {age.seconds}')"
   ]
  },
  {
   "cell_type": "code",
   "execution_count": 38,
   "id": "c3016e74",
   "metadata": {},
   "outputs": [
    {
     "name": "stdout",
     "output_type": "stream",
     "text": [
      "24 tahun 0 bulan 12 hari\n"
     ]
    }
   ],
   "source": [
    "days = age.days\n",
    "years = days // 365\n",
    "days = days % 365\n",
    "\n",
    "months = days // 30\n",
    "days = days % 30\n",
    "\n",
    "print(years, \"tahun\", months, \"bulan\", days, \"hari\")"
   ]
  },
  {
   "cell_type": "markdown",
   "id": "87a42a9a",
   "metadata": {},
   "source": [
    "# Representing Location"
   ]
  },
  {
   "cell_type": "code",
   "execution_count": 40,
   "id": "ee6dda8c",
   "metadata": {},
   "outputs": [
    {
     "name": "stdout",
     "output_type": "stream",
     "text": [
      "(42.3601, -71.0589)\n",
      "<class 'tuple'>\n"
     ]
    }
   ],
   "source": [
    "lat = 42.3601\n",
    "lon = -71.0589\n",
    "boston = lat, lon\n",
    "print(boston)\n",
    "print(type(boston))\n",
    "#immutable -> tidak dapat diubah"
   ]
  },
  {
   "cell_type": "code",
   "execution_count": 41,
   "id": "d723d17d",
   "metadata": {},
   "outputs": [
    {
     "data": {
      "text/plain": [
       "0.22984884706593015"
      ]
     },
     "execution_count": 41,
     "metadata": {},
     "output_type": "execute_result"
    }
   ],
   "source": [
    "import numpy as np\n",
    "\n",
    "theta = 1\n",
    "np.sin(theta/2)**2"
   ]
  },
  {
   "cell_type": "code",
   "execution_count": 37,
   "id": "772e3953",
   "metadata": {},
   "outputs": [],
   "source": [
    "def haversine(theta):\n",
    "    return np.sin(theta/2)**2"
   ]
  },
  {
   "cell_type": "code",
   "execution_count": 40,
   "id": "a317392a",
   "metadata": {},
   "outputs": [],
   "source": [
    "haversine_lamb = lambda theta : np.sin(theta/2)**2"
   ]
  },
  {
   "cell_type": "code",
   "execution_count": 38,
   "id": "26dec576",
   "metadata": {
    "scrolled": true
   },
   "outputs": [
    {
     "data": {
      "text/plain": [
       "0.22984884706593015"
      ]
     },
     "execution_count": 38,
     "metadata": {},
     "output_type": "execute_result"
    }
   ],
   "source": [
    "haversine(1)"
   ]
  },
  {
   "cell_type": "code",
   "execution_count": 43,
   "id": "910150e0",
   "metadata": {},
   "outputs": [
    {
     "data": {
      "text/plain": [
       "0.22984884706593015"
      ]
     },
     "execution_count": 43,
     "metadata": {},
     "output_type": "execute_result"
    }
   ],
   "source": [
    "haversine_lamb(1)"
   ]
  },
  {
   "cell_type": "code",
   "execution_count": 44,
   "id": "5cb238d1",
   "metadata": {},
   "outputs": [
    {
     "data": {
      "text/plain": [
       "function"
      ]
     },
     "execution_count": 44,
     "metadata": {},
     "output_type": "execute_result"
    }
   ],
   "source": [
    "type(haversine)"
   ]
  },
  {
   "cell_type": "code",
   "execution_count": 46,
   "id": "7958d5c2",
   "metadata": {},
   "outputs": [
    {
     "data": {
      "text/plain": [
       "function"
      ]
     },
     "execution_count": 46,
     "metadata": {},
     "output_type": "execute_result"
    }
   ],
   "source": [
    "type(haversine_lamb)"
   ]
  },
  {
   "cell_type": "markdown",
   "id": "02a0b3ed",
   "metadata": {},
   "source": [
    "### Contoh Diskriminan"
   ]
  },
  {
   "cell_type": "code",
   "execution_count": 48,
   "id": "e4920eb8",
   "metadata": {},
   "outputs": [],
   "source": [
    "def d_1(a, b, c):\n",
    "    return b**2 - 4*a*c\n",
    "\n",
    "d_2 = lambda a, b, c : b**2 - 4*a*c"
   ]
  },
  {
   "cell_type": "code",
   "execution_count": 49,
   "id": "6a93fe91",
   "metadata": {},
   "outputs": [
    {
     "data": {
      "text/plain": [
       "1"
      ]
     },
     "execution_count": 49,
     "metadata": {},
     "output_type": "execute_result"
    }
   ],
   "source": [
    "d_1(1, 5, 6)"
   ]
  },
  {
   "cell_type": "code",
   "execution_count": 50,
   "id": "9ec6d76e",
   "metadata": {},
   "outputs": [
    {
     "data": {
      "text/plain": [
       "1"
      ]
     },
     "execution_count": 50,
     "metadata": {},
     "output_type": "execute_result"
    }
   ],
   "source": [
    "d_2(1, 5, 6)"
   ]
  },
  {
   "cell_type": "markdown",
   "id": "bbc8a765",
   "metadata": {},
   "source": [
    "# Contoh Menghitung 2 Titik Koordinat"
   ]
  },
  {
   "cell_type": "code",
   "execution_count": 51,
   "id": "46d9ab6b",
   "metadata": {},
   "outputs": [],
   "source": [
    "def haversine_distance(coord1, coord2):\n",
    "    R = 6372.8  # Earth radius in km\n",
    "    lat1, lon1 = coord1\n",
    "    lat2, lon2 = coord2\n",
    "    \n",
    "    phi1, phi2 = np.radians(lat1), np.radians(lat2) \n",
    "    dphi = np.radians(lat2 - lat1)\n",
    "    dlambda = np.radians(lon2 - lon1)\n",
    "    \n",
    "    a = haversine(dphi) + np.cos(phi1) * np.cos(phi2) * haversine(dlambda)\n",
    "    \n",
    "    distance = 2 * R * np.arctan2(np.sqrt(a), np.sqrt(1 - a))\n",
    "    \n",
    "    return distance"
   ]
  },
  {
   "cell_type": "code",
   "execution_count": 52,
   "id": "46468e90",
   "metadata": {},
   "outputs": [
    {
     "data": {
      "text/plain": [
       "5265.656325981014"
      ]
     },
     "execution_count": 52,
     "metadata": {},
     "output_type": "execute_result"
    }
   ],
   "source": [
    "london = 51.5074, -0.1278\n",
    "\n",
    "haversine_distance(boston, london)"
   ]
  }
 ],
 "metadata": {
  "kernelspec": {
   "display_name": "Python 3 (ipykernel)",
   "language": "python",
   "name": "python3"
  },
  "language_info": {
   "codemirror_mode": {
    "name": "ipython",
    "version": 3
   },
   "file_extension": ".py",
   "mimetype": "text/x-python",
   "name": "python",
   "nbconvert_exporter": "python",
   "pygments_lexer": "ipython3",
   "version": "3.11.5"
  }
 },
 "nbformat": 4,
 "nbformat_minor": 5
}
