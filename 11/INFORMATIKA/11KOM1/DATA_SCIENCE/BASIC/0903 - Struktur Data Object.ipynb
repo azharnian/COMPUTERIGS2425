{
 "cells": [
  {
   "cell_type": "markdown",
   "id": "8ab89ab8",
   "metadata": {},
   "source": [
    "# Object Oriented Programming"
   ]
  },
  {
   "cell_type": "code",
   "execution_count": 8,
   "id": "ff0912c8",
   "metadata": {},
   "outputs": [
    {
     "name": "stdout",
     "output_type": "stream",
     "text": [
      "andi\n",
      "zzz..., andi is sleeping.\n",
      "budi\n",
      "Hi, I'm budi\n",
      "cindy\n",
      "<class '__main__.Human'>\n"
     ]
    }
   ],
   "source": [
    "class Human:\n",
    "    \n",
    "    def __init__(self, n):\n",
    "        self.name = n\n",
    "        self.age = 0\n",
    "        \n",
    "    def sleep(self):\n",
    "        print(f\"zzz..., {self.name} is sleeping.\")\n",
    "        \n",
    "    def introduce(self):\n",
    "        print(f\"Hi, I'm {self.name}\")\n",
    "        \n",
    "andi = Human(\"andi\")\n",
    "budi = Human(\"budi\")\n",
    "cindy = Human(\"cindy\")\n",
    "\n",
    "print(andi.name)\n",
    "andi.sleep()\n",
    "print(budi.name)\n",
    "budi.introduce()\n",
    "print(cindy.name)\n",
    "\n",
    "print(type(andi))"
   ]
  },
  {
   "cell_type": "code",
   "execution_count": 4,
   "id": "274803ab",
   "metadata": {},
   "outputs": [
    {
     "name": "stdout",
     "output_type": "stream",
     "text": [
      "toyota\n",
      "Tesla\n",
      "<class '__main__.Car'>\n"
     ]
    }
   ],
   "source": [
    "class Car:\n",
    "    \n",
    "    def __init__(self, m):\n",
    "        self.merk = m\n",
    "        \n",
    "my_car = Car(\"toyota\")\n",
    "our_car = Car(\"Tesla\")\n",
    "\n",
    "print(my_car.merk)\n",
    "print(our_car.merk)\n",
    "print(type(my_car))"
   ]
  },
  {
   "cell_type": "markdown",
   "id": "851c9a20",
   "metadata": {},
   "source": [
    "# 4 Concept OOP"
   ]
  },
  {
   "cell_type": "markdown",
   "id": "42071a73",
   "metadata": {},
   "source": [
    "## Encapsulation & Abstraction\n",
    "### Getter and Setter Method"
   ]
  },
  {
   "cell_type": "code",
   "execution_count": 11,
   "id": "26de87ca",
   "metadata": {
    "scrolled": true
   },
   "outputs": [
    {
     "name": "stdout",
     "output_type": "stream",
     "text": [
      "Alif\n",
      "My name is Alif\n",
      "None\n",
      "Wima\n",
      "My name is bros\n"
     ]
    }
   ],
   "source": [
    "class Person:\n",
    "    \n",
    "    def __init__(self, name, sex=\"Male\"):\n",
    "        self.name = name\n",
    "        self.sex = sex\n",
    "        \n",
    "    def get_name(self):\n",
    "        print(f\"My name is {self.name}\")\n",
    "        \n",
    "    def set_name(self, new_name):\n",
    "        self.name = new_name\n",
    "        \n",
    "alif = Person(\"Alif\")\n",
    "wima = Person(\"Wima\", \"Female\")\n",
    "mario = Person(\"Mario\", \"Male\")\n",
    "\n",
    "print(alif.name)\n",
    "print(alif.get_name())\n",
    "print(wima.name)\n",
    "mario.set_name(\"bros\")\n",
    "mario.get_name()"
   ]
  },
  {
   "cell_type": "markdown",
   "id": "bcae6164",
   "metadata": {},
   "source": [
    "## Instance as an attribute"
   ]
  },
  {
   "cell_type": "code",
   "execution_count": 3,
   "id": "f6e87150",
   "metadata": {},
   "outputs": [],
   "source": [
    "class Battery:\n",
    "    \n",
    "    def __init__(self, made = 'ABC', capacity=100):\n",
    "        self.made = made\n",
    "        self.capacity = capacity\n",
    "        \n",
    "    def show_capacity(self):\n",
    "        print(f'Capacity is {self.capacity}%')"
   ]
  },
  {
   "cell_type": "code",
   "execution_count": 4,
   "id": "bb1dc42f",
   "metadata": {},
   "outputs": [
    {
     "name": "stdout",
     "output_type": "stream",
     "text": [
      "Capacity is 100%\n"
     ]
    }
   ],
   "source": [
    "class EvCar:\n",
    "    \n",
    "    def __init__(self, made, year):\n",
    "        self.made = made\n",
    "        self.year = year\n",
    "        self.battery = Battery()\n",
    "        \n",
    "    def describe_car(self):\n",
    "        print(f\"This is {self.made} car, year : {self.year}\")\n",
    "        \n",
    "        \n",
    "my_tesla = EvCar(\"tesla\", 2024)\n",
    "my_tesla.battery.show_capacity()"
   ]
  },
  {
   "cell_type": "markdown",
   "id": "05f9a6fa",
   "metadata": {},
   "source": [
    "# Inheritance"
   ]
  },
  {
   "cell_type": "code",
   "execution_count": 16,
   "id": "8e05d095",
   "metadata": {},
   "outputs": [
    {
     "name": "stdout",
     "output_type": "stream",
     "text": [
      "This is Tesla car, year : 2024\n",
      "This is Toyota car, year : 2020\n"
     ]
    }
   ],
   "source": [
    "class Car:\n",
    "    \n",
    "    def __init__(self, made, year):\n",
    "        self.made = made\n",
    "        self.year = year\n",
    "        \n",
    "    def describe_car(self):\n",
    "        print(f\"This is {self.made} car, year : {self.year}\")\n",
    "        \n",
    "\n",
    "class EvCar(Car):\n",
    "    \n",
    "    def __init__(self, made, year=2024):\n",
    "        super().__init__(made, year)\n",
    "        self.battery = Battery()\n",
    "        \n",
    "my_tesla = EvCar(\"Tesla\")\n",
    "my_toyota = Car(\"Toyota\", 2020)\n",
    "\n",
    "my_tesla.describe_car()\n",
    "my_toyota.describe_car()"
   ]
  }
 ],
 "metadata": {
  "kernelspec": {
   "display_name": "Python 3 (ipykernel)",
   "language": "python",
   "name": "python3"
  },
  "language_info": {
   "codemirror_mode": {
    "name": "ipython",
    "version": 3
   },
   "file_extension": ".py",
   "mimetype": "text/x-python",
   "name": "python",
   "nbconvert_exporter": "python",
   "pygments_lexer": "ipython3",
   "version": "3.11.5"
  }
 },
 "nbformat": 4,
 "nbformat_minor": 5
}
