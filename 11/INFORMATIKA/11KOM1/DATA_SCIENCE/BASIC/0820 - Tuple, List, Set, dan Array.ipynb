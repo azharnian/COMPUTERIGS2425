{
 "cells": [
  {
   "cell_type": "markdown",
   "id": "521e6131",
   "metadata": {},
   "source": [
    "# Tuple"
   ]
  },
  {
   "cell_type": "code",
   "execution_count": 1,
   "id": "6f466023",
   "metadata": {},
   "outputs": [
    {
     "name": "stdout",
     "output_type": "stream",
     "text": [
      "(2, 3)\n",
      "(4, 'abc')\n",
      "('k', 'a', 'c', 'a', 'n', 'g')\n"
     ]
    }
   ],
   "source": [
    "# Membuat tuple\n",
    "t1 = (2, 3)\n",
    "t2 = (4, 'abc')\n",
    "t3 = tuple('kacang')\n",
    "\n",
    "print(t1)\n",
    "print(t2)\n",
    "print(t3)"
   ]
  },
  {
   "cell_type": "code",
   "execution_count": 2,
   "id": "3e4f476e",
   "metadata": {},
   "outputs": [
    {
     "name": "stdout",
     "output_type": "stream",
     "text": [
      "1 2 3 4\n"
     ]
    }
   ],
   "source": [
    "numbers = (1, 2, 3, 4)\n",
    "\n",
    "a, b, c, d = numbers\n",
    "print(a, b, c, d)"
   ]
  },
  {
   "cell_type": "code",
   "execution_count": 3,
   "id": "194b537a",
   "metadata": {},
   "outputs": [
    {
     "name": "stdout",
     "output_type": "stream",
     "text": [
      "(3, 4)\n",
      "(16, 9)\n",
      "3 4\n"
     ]
    }
   ],
   "source": [
    "resolutions = (\n",
    "    (3, 4),\n",
    "    (16, 9)\n",
    ")\n",
    "\n",
    "print(resolutions[0])\n",
    "print(resolutions[1])\n",
    "\n",
    "print(resolutions[0][0], resolutions[0][1])"
   ]
  },
  {
   "cell_type": "markdown",
   "id": "255cc875",
   "metadata": {},
   "source": [
    "# List"
   ]
  },
  {
   "cell_type": "code",
   "execution_count": 4,
   "id": "77fcb7d0",
   "metadata": {},
   "outputs": [
    {
     "name": "stdout",
     "output_type": "stream",
     "text": [
      "[10, -1, 13.7]\n",
      "['apel', 'pisang', 'mangga']\n",
      "[-75, 'kartu', True]\n",
      "['r', 'u', 'm', 'p', 'u', 't']\n"
     ]
    }
   ],
   "source": [
    "# Membuat list\n",
    "list1 = [10, -1, 13.7]\n",
    "list2 = [\"apel\", \"pisang\", \"mangga\"]\n",
    "list3 = [-75, \"kartu\", True]\n",
    "list4 = list(\"rumput\")\n",
    "\n",
    "print(list1)\n",
    "print(list2)\n",
    "print(list3)\n",
    "print(list4)"
   ]
  },
  {
   "cell_type": "code",
   "execution_count": 8,
   "id": "575fae08",
   "metadata": {},
   "outputs": [
    {
     "name": "stdout",
     "output_type": "stream",
     "text": [
      "['andi', 'budi', 'cindy', 'dony']\n",
      "['andi', 'x', 'budi', 'cindy', 'dony']\n",
      "['andi', 'x', 'budi', 'dony']\n",
      "['andi', 'x', 'budi']\n"
     ]
    }
   ],
   "source": [
    "names = ['andi', 'budi', 'cindy']\n",
    "\n",
    "#append\n",
    "names.append('dony')\n",
    "print(names)\n",
    "\n",
    "#insert\n",
    "names.insert(1, 'x')\n",
    "print(names)\n",
    "\n",
    "#remove\n",
    "names.remove('cindy')\n",
    "print(names)\n",
    "\n",
    "#pop\n",
    "names.pop(-1)\n",
    "print(names)"
   ]
  },
  {
   "cell_type": "code",
   "execution_count": 10,
   "id": "a3026dd7",
   "metadata": {},
   "outputs": [
    {
     "name": "stdout",
     "output_type": "stream",
     "text": [
      "['cat', 'dog', 'beaver', 'capybara']\n"
     ]
    }
   ],
   "source": [
    "pets = ['cat', 'dog']\n",
    "new_pets = ['beaver', 'capybara']\n",
    "\n",
    "# print(pets + new_pets)\n",
    "pets.extend(new_pets)\n",
    "print(pets)"
   ]
  },
  {
   "cell_type": "code",
   "execution_count": 13,
   "id": "6016338b",
   "metadata": {},
   "outputs": [
    {
     "name": "stdout",
     "output_type": "stream",
     "text": [
      "['beaver', 'capybara', 'cat', 'dog']\n"
     ]
    },
    {
     "data": {
      "text/plain": [
       "['beaver', 'capybara']"
      ]
     },
     "execution_count": 13,
     "metadata": {},
     "output_type": "execute_result"
    }
   ],
   "source": [
    "pets.sort()\n",
    "print(pets)\n",
    "\n",
    "sorted(new_pets)"
   ]
  },
  {
   "cell_type": "code",
   "execution_count": 16,
   "id": "e3a63380",
   "metadata": {},
   "outputs": [
    {
     "name": "stdout",
     "output_type": "stream",
     "text": [
      "beaver capybara cat dog \n"
     ]
    }
   ],
   "source": [
    "# print(pets[0])\n",
    "# print(pets[1])\n",
    "\n",
    "for pet in pets:\n",
    "    print(pet, end=\" \")\n",
    "print()"
   ]
  },
  {
   "cell_type": "code",
   "execution_count": 18,
   "id": "6d284289",
   "metadata": {},
   "outputs": [
    {
     "name": "stdout",
     "output_type": "stream",
     "text": [
      "beaver capybara cat dog \n"
     ]
    }
   ],
   "source": [
    "for i in range(0, len(pets)):\n",
    "    print(pets[i], end=\" \")\n",
    "print()"
   ]
  },
  {
   "cell_type": "code",
   "execution_count": 20,
   "id": "af3109e7",
   "metadata": {},
   "outputs": [
    {
     "name": "stdout",
     "output_type": "stream",
     "text": [
      "beaver capybara cat dog \n"
     ]
    }
   ],
   "source": [
    "index = 0\n",
    "while (index < len(pets)):\n",
    "    print(pets[index], end=\" \")\n",
    "    index += 1\n",
    "print()"
   ]
  },
  {
   "cell_type": "code",
   "execution_count": 28,
   "id": "b82dcad0",
   "metadata": {},
   "outputs": [
    {
     "name": "stdout",
     "output_type": "stream",
     "text": [
      "['pineapple', 'pepperoni', 'tomato']\n",
      "['pepperoni', 'tomato']\n"
     ]
    }
   ],
   "source": [
    "# copying list\n",
    "\n",
    "toppings = ['pineapple', 'pepperoni', 'tomato']\n",
    "my_copy_toppings = toppings[:]\n",
    "\n",
    "my_copy_toppings.pop(0)\n",
    "print(toppings)\n",
    "print(my_copy_toppings)"
   ]
  },
  {
   "cell_type": "markdown",
   "id": "e9b72e5e",
   "metadata": {},
   "source": [
    "# Set"
   ]
  },
  {
   "cell_type": "code",
   "execution_count": 21,
   "id": "ac231da2",
   "metadata": {},
   "outputs": [
    {
     "name": "stdout",
     "output_type": "stream",
     "text": [
      "{'kuda', 'bebek', 'ayam'}\n",
      "{'k', 'a', 'g', 'c', 'n'}\n"
     ]
    }
   ],
   "source": [
    "# Membuat set\n",
    "s1 = {'ayam', 'bebek', 'ayam', 'kuda'}\n",
    "s2 = set(list('kacang'))\n",
    "\n",
    "print(s1)\n",
    "print(s2)"
   ]
  },
  {
   "cell_type": "code",
   "execution_count": 22,
   "id": "2402da15",
   "metadata": {},
   "outputs": [
    {
     "name": "stdout",
     "output_type": "stream",
     "text": [
      "{'k', 'm', 'a', 'i', 'e', 't'}\n",
      "{'k', 's', 'a', 'i', 't'}\n",
      "{'r', 'k', 'a', 'i', 't', 'u'}\n"
     ]
    }
   ],
   "source": [
    "s3 = set('matematika')\n",
    "s4 = set('statistika')\n",
    "s5 = set('aktuaria')\n",
    "\n",
    "print(s3)\n",
    "print(s4)\n",
    "print(s5)"
   ]
  },
  {
   "cell_type": "code",
   "execution_count": 23,
   "id": "dbbc17c2",
   "metadata": {},
   "outputs": [
    {
     "name": "stdout",
     "output_type": "stream",
     "text": [
      "{'t', 'i', 'k', 'a'}\n"
     ]
    }
   ],
   "source": [
    "print(s3 & s4) # irisan/intersection"
   ]
  },
  {
   "cell_type": "code",
   "execution_count": 24,
   "id": "a3fd0e2c",
   "metadata": {},
   "outputs": [
    {
     "name": "stdout",
     "output_type": "stream",
     "text": [
      "{'k', 's', 'm', 'a', 'i', 'e', 't'}\n"
     ]
    }
   ],
   "source": [
    "print(s3 | s4) # gabungan/union"
   ]
  },
  {
   "cell_type": "code",
   "execution_count": 25,
   "id": "f948cd49",
   "metadata": {},
   "outputs": [
    {
     "name": "stdout",
     "output_type": "stream",
     "text": [
      "False\n",
      "True\n"
     ]
    }
   ],
   "source": [
    "# subset\n",
    "print(s4 <= s5)\n",
    "print( {3, 4} <= {1, 2, 3, 4, 5} )"
   ]
  },
  {
   "cell_type": "code",
   "execution_count": 26,
   "id": "a569456e",
   "metadata": {
    "scrolled": true
   },
   "outputs": [
    {
     "name": "stdout",
     "output_type": "stream",
     "text": [
      "False\n",
      "True\n"
     ]
    }
   ],
   "source": [
    "# superset\n",
    "print(s4 >= s3)\n",
    "print( {3, 4, 5, 6, 7, 8} >= {7, 4} )"
   ]
  },
  {
   "cell_type": "markdown",
   "id": "8e382c6e",
   "metadata": {},
   "source": [
    "# Numpy Array"
   ]
  },
  {
   "cell_type": "code",
   "execution_count": 29,
   "id": "4c274e75",
   "metadata": {},
   "outputs": [],
   "source": [
    "import numpy as np"
   ]
  },
  {
   "cell_type": "code",
   "execution_count": 30,
   "id": "5acb5a3d",
   "metadata": {},
   "outputs": [
    {
     "name": "stdout",
     "output_type": "stream",
     "text": [
      "[0. 0. 0. 0. 0.]\n",
      "[1. 1. 1.]\n",
      "<class 'numpy.ndarray'>\n",
      "<class 'numpy.ndarray'>\n"
     ]
    }
   ],
   "source": [
    "array1 = np.zeros(5)\n",
    "array2 = np.ones(3)\n",
    "\n",
    "print(array1)\n",
    "print(array2)\n",
    "print(type(array1))\n",
    "print(type(array2))"
   ]
  },
  {
   "cell_type": "code",
   "execution_count": 31,
   "id": "81db5b96",
   "metadata": {
    "scrolled": true
   },
   "outputs": [
    {
     "name": "stdout",
     "output_type": "stream",
     "text": [
      "[0. 0. 0. 0. 0.]\n",
      "[10 -5  2 17]\n"
     ]
    }
   ],
   "source": [
    "array3 = np.array([0, 0, 0, 0, 0], dtype='float')\n",
    "print(array3)\n",
    "\n",
    "array4 = np.array([10, -5, 2, 17])\n",
    "print(array4)"
   ]
  },
  {
   "cell_type": "code",
   "execution_count": 32,
   "id": "03849a9d",
   "metadata": {},
   "outputs": [
    {
     "name": "stdout",
     "output_type": "stream",
     "text": [
      "[0. 0. 0. 0. 0. 0. 0. 0.]\n"
     ]
    }
   ],
   "source": [
    "array5 = np.empty(8)\n",
    "print(array5)"
   ]
  },
  {
   "cell_type": "code",
   "execution_count": 33,
   "id": "0941cf0d",
   "metadata": {},
   "outputs": [
    {
     "name": "stdout",
     "output_type": "stream",
     "text": [
      "[-17.6   24.3    2.5    3.75   5.     6.25   7.5    8.75]\n"
     ]
    }
   ],
   "source": [
    "array5[0] = -17.6\n",
    "array5[1] = 24.3\n",
    "\n",
    "for i in range(2, len(array5)): # dari i=2 sampai i=7\n",
    "    array5[i] = 5*i/4\n",
    "\n",
    "print(array5)"
   ]
  },
  {
   "cell_type": "code",
   "execution_count": 35,
   "id": "3c830537",
   "metadata": {},
   "outputs": [],
   "source": [
    "boston_price_list = [9.99, 7.99, 7.49, 7.00, 6.29, 4.99]\n",
    "london_price_list = [7.5, 5, 4.4, 5, 3.75, 2.25]"
   ]
  },
  {
   "cell_type": "code",
   "execution_count": 36,
   "id": "c45248e4",
   "metadata": {},
   "outputs": [
    {
     "data": {
      "text/plain": [
       "[9.99, 7.99, 7.49, 7.0, 6.29, 4.99, 7.5, 5, 4.4, 5, 3.75, 2.25]"
      ]
     },
     "execution_count": 36,
     "metadata": {},
     "output_type": "execute_result"
    }
   ],
   "source": [
    "boston_price_list + london_price_list"
   ]
  },
  {
   "cell_type": "code",
   "execution_count": 38,
   "id": "c5508892",
   "metadata": {},
   "outputs": [
    {
     "ename": "TypeError",
     "evalue": "unsupported operand type(s) for -: 'list' and 'list'",
     "output_type": "error",
     "traceback": [
      "\u001b[0;31m---------------------------------------------------------------------------\u001b[0m",
      "\u001b[0;31mTypeError\u001b[0m                                 Traceback (most recent call last)",
      "Cell \u001b[0;32mIn[38], line 1\u001b[0m\n\u001b[0;32m----> 1\u001b[0m boston_price_list \u001b[38;5;241m-\u001b[39m london_price_list\n",
      "\u001b[0;31mTypeError\u001b[0m: unsupported operand type(s) for -: 'list' and 'list'"
     ]
    }
   ],
   "source": [
    "boston_price_list - london_price_list"
   ]
  },
  {
   "cell_type": "code",
   "execution_count": 40,
   "id": "b4687a46",
   "metadata": {},
   "outputs": [
    {
     "data": {
      "text/plain": [
       "array([2.49, 2.99, 3.09, 2.  , 2.54, 2.74])"
      ]
     },
     "execution_count": 40,
     "metadata": {},
     "output_type": "execute_result"
    }
   ],
   "source": [
    "boston_price_array = np.array(boston_price_list)\n",
    "london_price_array = np.array(london_price_list)\n",
    "differences = boston_price_array - london_price_array\n",
    "differences"
   ]
  },
  {
   "cell_type": "code",
   "execution_count": 41,
   "id": "c9cccd4c",
   "metadata": {},
   "outputs": [
    {
     "data": {
      "text/plain": [
       "array([17.49, 12.99, 11.89, 12.  , 10.04,  7.24])"
      ]
     },
     "execution_count": 41,
     "metadata": {},
     "output_type": "execute_result"
    }
   ],
   "source": [
    "boston_price_array + london_price_array"
   ]
  },
  {
   "cell_type": "code",
   "execution_count": 42,
   "id": "d7421a59",
   "metadata": {},
   "outputs": [
    {
     "data": {
      "text/plain": [
       "array([74.925 , 39.95  , 32.956 , 35.    , 23.5875, 11.2275])"
      ]
     },
     "execution_count": 42,
     "metadata": {},
     "output_type": "execute_result"
    }
   ],
   "source": [
    "boston_price_array * london_price_array"
   ]
  },
  {
   "cell_type": "code",
   "execution_count": 43,
   "id": "d641f699",
   "metadata": {},
   "outputs": [
    {
     "data": {
      "text/plain": [
       "array([1.332     , 1.598     , 1.70227273, 1.4       , 1.67733333,\n",
       "       2.21777778])"
      ]
     },
     "execution_count": 43,
     "metadata": {},
     "output_type": "execute_result"
    }
   ],
   "source": [
    "boston_price_array / london_price_array"
   ]
  }
 ],
 "metadata": {
  "kernelspec": {
   "display_name": "Python 3 (ipykernel)",
   "language": "python",
   "name": "python3"
  },
  "language_info": {
   "codemirror_mode": {
    "name": "ipython",
    "version": 3
   },
   "file_extension": ".py",
   "mimetype": "text/x-python",
   "name": "python",
   "nbconvert_exporter": "python",
   "pygments_lexer": "ipython3",
   "version": "3.11.5"
  }
 },
 "nbformat": 4,
 "nbformat_minor": 5
}
