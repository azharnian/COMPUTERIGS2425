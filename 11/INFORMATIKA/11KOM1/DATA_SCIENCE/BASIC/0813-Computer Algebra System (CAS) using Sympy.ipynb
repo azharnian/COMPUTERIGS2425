{
 "cells": [
  {
   "cell_type": "markdown",
   "id": "e8818c2f",
   "metadata": {},
   "source": [
    "# Computer Algebra System"
   ]
  },
  {
   "cell_type": "code",
   "execution_count": 1,
   "id": "1fa74fe1",
   "metadata": {},
   "outputs": [],
   "source": [
    "import sympy as sp\n",
    "import numpy as np"
   ]
  },
  {
   "cell_type": "code",
   "execution_count": 2,
   "id": "c8570e2a",
   "metadata": {},
   "outputs": [
    {
     "name": "stdout",
     "output_type": "stream",
     "text": [
      "5*x**4/2\n"
     ]
    }
   ],
   "source": [
    "x = sp.symbols('x')\n",
    "f = 5 * (x ** 4) / 2\n",
    "print(f)"
   ]
  },
  {
   "cell_type": "code",
   "execution_count": 3,
   "id": "4a6d4065",
   "metadata": {},
   "outputs": [
    {
     "name": "stdout",
     "output_type": "stream",
     "text": [
      "   4\n",
      "5⋅x \n",
      "────\n",
      " 2  \n"
     ]
    }
   ],
   "source": [
    "sp.pprint(f)"
   ]
  },
  {
   "cell_type": "code",
   "execution_count": 4,
   "id": "23434889",
   "metadata": {},
   "outputs": [
    {
     "name": "stdout",
     "output_type": "stream",
     "text": [
      "    3\n",
      "10⋅x \n"
     ]
    }
   ],
   "source": [
    "turunan = sp.diff(f, x)\n",
    "sp.pprint(turunan)"
   ]
  },
  {
   "cell_type": "code",
   "execution_count": 5,
   "id": "4804017e",
   "metadata": {},
   "outputs": [
    {
     "name": "stdout",
     "output_type": "stream",
     "text": [
      "640\n"
     ]
    }
   ],
   "source": [
    "value_at_4 = turunan.subs(x, 4)\n",
    "print(value_at_4)"
   ]
  },
  {
   "cell_type": "code",
   "execution_count": 7,
   "id": "b74ffae3",
   "metadata": {},
   "outputs": [
    {
     "name": "stdout",
     "output_type": "stream",
     "text": [
      "640\n"
     ]
    }
   ],
   "source": [
    "func = sp.lambdify(x, turunan)\n",
    "value_at_4 = func(4)\n",
    "print(value_at_4)"
   ]
  },
  {
   "cell_type": "markdown",
   "id": "f9eee275",
   "metadata": {},
   "source": [
    "## Trigonometric Function in Sympy and Numpy"
   ]
  },
  {
   "cell_type": "code",
   "execution_count": 8,
   "id": "f4f43821",
   "metadata": {},
   "outputs": [
    {
     "name": "stdout",
     "output_type": "stream",
     "text": [
      "SymPy, sin(pi) = 0\n",
      "NumPy, sin(pi) = 1.2246467991473532e-16\n"
     ]
    }
   ],
   "source": [
    "print(\"SymPy, sin(pi) = \" + str(sp.sin(sp.pi)))\n",
    "print(\"NumPy, sin(pi) = \" + str(np.sin(np.pi)))"
   ]
  },
  {
   "cell_type": "code",
   "execution_count": 10,
   "id": "de2c573d",
   "metadata": {},
   "outputs": [
    {
     "name": "stdout",
     "output_type": "stream",
     "text": [
      "1.00000000000000\n",
      "1\n"
     ]
    }
   ],
   "source": [
    "print(sp.sin(np.radians(90)))\n",
    "print(sp.sin(sp.pi/2))"
   ]
  },
  {
   "cell_type": "code",
   "execution_count": 12,
   "id": "49510afd",
   "metadata": {},
   "outputs": [
    {
     "name": "stdout",
     "output_type": "stream",
     "text": [
      "Fungsinya:\n",
      " 2       \n",
      "x ⋅cos(x)\n",
      "x**2*cos(x)\n",
      "Turunannya:\n",
      "   2                    \n",
      "- x ⋅sin(x) + 2⋅x⋅cos(x)\n",
      "-x**2*sin(x) + 2*x*cos(x)\n"
     ]
    }
   ],
   "source": [
    "g = x**2 * sp.cos(x)\n",
    "print(\"Fungsinya:\")\n",
    "sp.pprint(g)\n",
    "print(g)\n",
    "\n",
    "gp = sp.diff(g, x)\n",
    "print(\"Turunannya:\")\n",
    "sp.pprint(gp)\n",
    "print(gp)"
   ]
  },
  {
   "cell_type": "markdown",
   "id": "7ef43e5b",
   "metadata": {},
   "source": [
    "## Latihan"
   ]
  },
  {
   "cell_type": "code",
   "execution_count": 5,
   "id": "03a4e3d7",
   "metadata": {},
   "outputs": [],
   "source": [
    "import numpy as np\n",
    "import sympy as sp\n",
    "\n",
    "from IPython.display import display, Math"
   ]
  },
  {
   "cell_type": "code",
   "execution_count": 2,
   "id": "215abbd2",
   "metadata": {},
   "outputs": [],
   "source": [
    "x = sp.symbols('x')"
   ]
  },
  {
   "cell_type": "markdown",
   "id": "e6f78f2e",
   "metadata": {},
   "source": [
    "### No. 1"
   ]
  },
  {
   "cell_type": "code",
   "execution_count": 7,
   "id": "21e22a67",
   "metadata": {},
   "outputs": [
    {
     "data": {
      "text/latex": [
       "$\\displaystyle \\frac{1}{\\sqrt[6]{3 x^{6} + 5 x^{4}}}$"
      ],
      "text/plain": [
       "<IPython.core.display.Math object>"
      ]
     },
     "metadata": {},
     "output_type": "display_data"
    }
   ],
   "source": [
    "f = 1 / sp.Pow( (5*x**4 + 3*x**6) , sp.Rational(1,6))\n",
    "# sp.pprint(f)\n",
    "display(Math(sp.latex(f)))"
   ]
  },
  {
   "cell_type": "code",
   "execution_count": 8,
   "id": "b79a9b08",
   "metadata": {},
   "outputs": [
    {
     "data": {
      "text/latex": [
       "$\\displaystyle \\frac{- 3 x^{5} - \\frac{10 x^{3}}{3}}{\\left(3 x^{6} + 5 x^{4}\\right)^{\\frac{7}{6}}}$"
      ],
      "text/plain": [
       "<IPython.core.display.Math object>"
      ]
     },
     "metadata": {},
     "output_type": "display_data"
    }
   ],
   "source": [
    "fDiff = sp.diff(f, x)\n",
    "display(Math(sp.latex(fDiff)))"
   ]
  },
  {
   "cell_type": "markdown",
   "id": "71b019ef",
   "metadata": {},
   "source": [
    "### No. 2"
   ]
  }
 ],
 "metadata": {
  "kernelspec": {
   "display_name": "Python 3 (ipykernel)",
   "language": "python",
   "name": "python3"
  },
  "language_info": {
   "codemirror_mode": {
    "name": "ipython",
    "version": 3
   },
   "file_extension": ".py",
   "mimetype": "text/x-python",
   "name": "python",
   "nbconvert_exporter": "python",
   "pygments_lexer": "ipython3",
   "version": "3.11.5"
  }
 },
 "nbformat": 4,
 "nbformat_minor": 5
}
