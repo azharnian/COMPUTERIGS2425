{
 "cells": [
  {
   "cell_type": "markdown",
   "id": "2e07c254",
   "metadata": {},
   "source": [
    "# Polymorphism (OOP)"
   ]
  },
  {
   "cell_type": "code",
   "execution_count": 1,
   "id": "74339135",
   "metadata": {},
   "outputs": [
    {
     "name": "stdout",
     "output_type": "stream",
     "text": [
      "I'm moving...\n"
     ]
    }
   ],
   "source": [
    "\n",
    "class Vehicle:\n",
    "    \n",
    "    def __init__(self, name):\n",
    "        self.name = name\n",
    "        \n",
    "    def move(self):\n",
    "        print(f\"I'm moving...\")\n",
    "        \n",
    "my_vehicle = Vehicle(\"first\")\n",
    "my_vehicle.move()"
   ]
  },
  {
   "cell_type": "code",
   "execution_count": 3,
   "id": "14977548",
   "metadata": {},
   "outputs": [
    {
     "name": "stdout",
     "output_type": "stream",
     "text": [
      "Brum... brum... brum\n"
     ]
    }
   ],
   "source": [
    "class Car(Vehicle):\n",
    "    \n",
    "    def __init__(self, name, made, year):\n",
    "        super().__init__(name)\n",
    "        self.made = made\n",
    "        self.year = year\n",
    "        \n",
    "    def move(self):\n",
    "        print(f\"Brum... brum... brum\")\n",
    "        \n",
    "my_car = Car(\"Xenia\", \"Daihatsu\", 2024)\n",
    "my_car.move()"
   ]
  }
 ],
 "metadata": {
  "kernelspec": {
   "display_name": "Python 3 (ipykernel)",
   "language": "python",
   "name": "python3"
  },
  "language_info": {
   "codemirror_mode": {
    "name": "ipython",
    "version": 3
   },
   "file_extension": ".py",
   "mimetype": "text/x-python",
   "name": "python",
   "nbconvert_exporter": "python",
   "pygments_lexer": "ipython3",
   "version": "3.11.5"
  }
 },
 "nbformat": 4,
 "nbformat_minor": 5
}
