{
 "cells": [
  {
   "cell_type": "markdown",
   "id": "83cc8eb5",
   "metadata": {},
   "source": [
    "# Advanced Array"
   ]
  },
  {
   "cell_type": "code",
   "execution_count": 1,
   "id": "28d6d636",
   "metadata": {},
   "outputs": [],
   "source": [
    "import numpy as np"
   ]
  },
  {
   "cell_type": "code",
   "execution_count": 2,
   "id": "711dc13e",
   "metadata": {},
   "outputs": [
    {
     "name": "stdout",
     "output_type": "stream",
     "text": [
      "[1 2 3 4 5]\n",
      "[1.5 2.5 5.  6.  7. ]\n"
     ]
    }
   ],
   "source": [
    "a = np.array([1,2,3,4,5])\n",
    "b = np.array([1.5 , 2.5, 5, 6, 7])\n",
    "\n",
    "print(a)\n",
    "print(b)"
   ]
  },
  {
   "cell_type": "code",
   "execution_count": 3,
   "id": "ef12f563",
   "metadata": {
    "scrolled": true
   },
   "outputs": [
    {
     "name": "stdout",
     "output_type": "stream",
     "text": [
      "[1 3 5 7 9]\n",
      "[1.  1.5 2.  2.5 3.  3.5 4.  4.5 5.  5.5 6.  6.5 7.  7.5 8.  8.5 9.  9.5]\n"
     ]
    }
   ],
   "source": [
    "c = np.arange(1,10,2)\n",
    "\n",
    "print(c)\n",
    "\n",
    "c_2 = np.arange(1, 10, 0.5)\n",
    "print(c_2)"
   ]
  },
  {
   "cell_type": "code",
   "execution_count": 4,
   "id": "b14864c2",
   "metadata": {},
   "outputs": [
    {
     "name": "stdout",
     "output_type": "stream",
     "text": [
      "[ 1.  4.  7. 10.]\n"
     ]
    }
   ],
   "source": [
    "d = np.linspace(1,10,4)\n",
    "\n",
    "print(d)"
   ]
  },
  {
   "cell_type": "code",
   "execution_count": 5,
   "id": "cfef057c",
   "metadata": {},
   "outputs": [
    {
     "name": "stdout",
     "output_type": "stream",
     "text": [
      "[[1 2 3]\n",
      " [4 5 6]]\n",
      "(2, 3)\n"
     ]
    }
   ],
   "source": [
    "# array multidimensi / matrix\n",
    "e = np.array( [ (1,2,3) , \n",
    "                (4,5,6) ])\n",
    "\n",
    "print(e)\n",
    "print(e.shape)"
   ]
  },
  {
   "cell_type": "code",
   "execution_count": 6,
   "id": "7311a30d",
   "metadata": {},
   "outputs": [
    {
     "name": "stdout",
     "output_type": "stream",
     "text": [
      "[[0. 0. 0. 0. 0.]\n",
      " [0. 0. 0. 0. 0.]\n",
      " [0. 0. 0. 0. 0.]\n",
      " [0. 0. 0. 0. 0.]\n",
      " [0. 0. 0. 0. 0.]]\n",
      "[[1. 1. 1. 1. 1.]\n",
      " [1. 1. 1. 1. 1.]\n",
      " [1. 1. 1. 1. 1.]\n",
      " [1. 1. 1. 1. 1.]\n",
      " [1. 1. 1. 1. 1.]]\n"
     ]
    }
   ],
   "source": [
    "# matrix dengan nilai nol\n",
    "f = np.zeros((5,5))\n",
    "print(f)\n",
    "# matrix dengan nilai satu\n",
    "g = np.ones((5,5))\n",
    "print(g)"
   ]
  },
  {
   "cell_type": "code",
   "execution_count": 7,
   "id": "ce5db581",
   "metadata": {
    "scrolled": true
   },
   "outputs": [
    {
     "name": "stdout",
     "output_type": "stream",
     "text": [
      "[[1. 0. 0. 0. 0.]\n",
      " [0. 1. 0. 0. 0.]\n",
      " [0. 0. 1. 0. 0.]\n",
      " [0. 0. 0. 1. 0.]\n",
      " [0. 0. 0. 0. 1.]]\n"
     ]
    }
   ],
   "source": [
    "h1 = np.identity(5)\n",
    "\n",
    "print(h1)"
   ]
  },
  {
   "cell_type": "markdown",
   "id": "28e051b9",
   "metadata": {},
   "source": [
    "# Operasi Matematika"
   ]
  },
  {
   "cell_type": "code",
   "execution_count": 21,
   "id": "5b947411",
   "metadata": {},
   "outputs": [
    {
     "data": {
      "text/plain": [
       "array([ 7,  9, 11, 13, 15])"
      ]
     },
     "execution_count": 21,
     "metadata": {},
     "output_type": "execute_result"
    }
   ],
   "source": [
    "a = [1,2,3,4,5]\n",
    "b = [6,7,8,9,10]\n",
    "\n",
    "anp = np.array([1,2,3,4,5])\n",
    "bnp = np.array([6,7,8,9,10])\n",
    "\n",
    "anp + bnp"
   ]
  },
  {
   "cell_type": "code",
   "execution_count": 22,
   "id": "26283933",
   "metadata": {},
   "outputs": [
    {
     "name": "stdout",
     "output_type": "stream",
     "text": [
      "[1, 2, 3, 4, 5, 6, 7, 8, 9, 10]\n"
     ]
    }
   ],
   "source": [
    "ab = a + b\n",
    "print(ab)"
   ]
  },
  {
   "cell_type": "code",
   "execution_count": 10,
   "id": "d2974351",
   "metadata": {},
   "outputs": [
    {
     "data": {
      "text/plain": [
       "array([-5, -5, -5, -5, -5])"
      ]
     },
     "execution_count": 10,
     "metadata": {},
     "output_type": "execute_result"
    }
   ],
   "source": [
    "anp - bnp"
   ]
  },
  {
   "cell_type": "code",
   "execution_count": 11,
   "id": "2b4fc084",
   "metadata": {},
   "outputs": [
    {
     "data": {
      "text/plain": [
       "array([ 6, 14, 24, 36, 50])"
      ]
     },
     "execution_count": 11,
     "metadata": {},
     "output_type": "execute_result"
    }
   ],
   "source": [
    "anp * bnp"
   ]
  },
  {
   "cell_type": "code",
   "execution_count": 12,
   "id": "da4e13b2",
   "metadata": {},
   "outputs": [
    {
     "data": {
      "text/plain": [
       "array([0.16666667, 0.28571429, 0.375     , 0.44444444, 0.5       ])"
      ]
     },
     "execution_count": 12,
     "metadata": {},
     "output_type": "execute_result"
    }
   ],
   "source": [
    "anp / bnp"
   ]
  },
  {
   "cell_type": "code",
   "execution_count": 13,
   "id": "d534a3e4",
   "metadata": {},
   "outputs": [
    {
     "data": {
      "text/plain": [
       "array([ 1,  4,  9, 16, 25])"
      ]
     },
     "execution_count": 13,
     "metadata": {},
     "output_type": "execute_result"
    }
   ],
   "source": [
    "anp**2"
   ]
  },
  {
   "cell_type": "code",
   "execution_count": 14,
   "id": "96d9d7ed",
   "metadata": {},
   "outputs": [
    {
     "name": "stdout",
     "output_type": "stream",
     "text": [
      "[[ 8 10 12]\n",
      " [ 3  3  3]]\n",
      "[[  7  16  27]\n",
      " [ -4 -10 -18]]\n"
     ]
    }
   ],
   "source": [
    "c = np.array(([1,2,3],\n",
    "              [4,5,6]))\n",
    "d = np.array(([7,8,9],\n",
    "              [-1,-2,-3]))\n",
    "\n",
    "add = c + d\n",
    "mult = c * d\n",
    "print(add)\n",
    "print(mult)"
   ]
  },
  {
   "cell_type": "code",
   "execution_count": 23,
   "id": "31e94085",
   "metadata": {},
   "outputs": [
    {
     "data": {
      "text/plain": [
       "array([[ 2,  4,  6],\n",
       "       [ 8, 10, 12]])"
      ]
     },
     "execution_count": 23,
     "metadata": {},
     "output_type": "execute_result"
    }
   ],
   "source": [
    "2 * c"
   ]
  },
  {
   "cell_type": "code",
   "execution_count": 25,
   "id": "8624c7c0",
   "metadata": {},
   "outputs": [
    {
     "name": "stdout",
     "output_type": "stream",
     "text": [
      "[[1/2 1 3/2]\n",
      " [2 5/2 3]]\n"
     ]
    }
   ],
   "source": [
    "import sympy as sp\n",
    "\n",
    "rational_c = sp.Rational(1, 2) * c\n",
    "print(rational_c)"
   ]
  },
  {
   "cell_type": "markdown",
   "id": "887ecb0f",
   "metadata": {},
   "source": [
    "# Perkalian Dot Matrix"
   ]
  },
  {
   "cell_type": "code",
   "execution_count": 15,
   "id": "0db58507",
   "metadata": {},
   "outputs": [
    {
     "name": "stdout",
     "output_type": "stream",
     "text": [
      "matrix a:\n",
      "[[1 2]\n",
      " [3 4]]\n",
      "\n",
      "matrix b:\n",
      "[[1. 1.]\n",
      " [1. 1.]]\n",
      "\n",
      "matrix c1:\n",
      "[[3. 3.]\n",
      " [7. 7.]]\n",
      "\n",
      "matrix c2:\n",
      "[[3. 3.]\n",
      " [7. 7.]]\n",
      "\n"
     ]
    }
   ],
   "source": [
    "a = np.array(([1,2],\n",
    "              [3,4]))\n",
    "\n",
    "b = np.ones([2,2])\n",
    "\n",
    "print(\"matrix a:\")\n",
    "print(a)\n",
    "print()\n",
    "\n",
    "print(\"matrix b:\")\n",
    "print(b)\n",
    "print()\n",
    "\n",
    "# perkalian matrix\n",
    "c1 = np.dot(a,b)\n",
    "c2 = a.dot(b)\n",
    "\n",
    "print(\"matrix c1:\")\n",
    "print(c1)\n",
    "print()\n",
    "\n",
    "print(\"matrix c2:\")\n",
    "print(c2)\n",
    "print()"
   ]
  },
  {
   "cell_type": "markdown",
   "id": "43bdb7ce",
   "metadata": {},
   "source": [
    "# Shape Manipulation"
   ]
  },
  {
   "cell_type": "code",
   "execution_count": 16,
   "id": "166081f5",
   "metadata": {},
   "outputs": [
    {
     "name": "stdout",
     "output_type": "stream",
     "text": [
      "matrix a dengan ukuran: (2, 3)\n",
      "[[1 2 3]\n",
      " [4 5 6]]\n",
      "\n",
      "transpose matrix dari a:\n",
      "[[1 4]\n",
      " [2 5]\n",
      " [3 6]]\n",
      "(2, 3)\n",
      "\n",
      "transpose matrix dari a transpose:\n",
      "(3, 2)\n",
      "\n"
     ]
    }
   ],
   "source": [
    "a = np.array((\n",
    "            [1,2,3],\n",
    "            [4,5,6]\n",
    "))\n",
    "\n",
    "print('matrix a dengan ukuran:',a.shape)\n",
    "print(a)\n",
    "print()\n",
    "\n",
    "\n",
    "# transpose matrix\n",
    "print('transpose matrix dari a:')\n",
    "print(a.transpose())\n",
    "print(a.shape)\n",
    "print()\n",
    "\n",
    "# transpose matrix\n",
    "print('transpose matrix dari a transpose:')\n",
    "a_transpose = np.transpose(a)\n",
    "print(a_transpose.shape)\n",
    "print()\n",
    "\n"
   ]
  },
  {
   "cell_type": "markdown",
   "id": "2b66fa8b",
   "metadata": {},
   "source": [
    "# Invers Matrix"
   ]
  },
  {
   "cell_type": "code",
   "execution_count": 17,
   "id": "644a1d6d",
   "metadata": {
    "scrolled": true
   },
   "outputs": [
    {
     "name": "stdout",
     "output_type": "stream",
     "text": [
      "[[2 4]\n",
      " [3 5]]\n",
      "\n",
      "[[-2.5  2. ]\n",
      " [ 1.5 -1. ]]\n",
      "\n",
      "-2.000000000000001\n",
      "-0.49999999999999967\n"
     ]
    }
   ],
   "source": [
    "a = np.array([\n",
    "            (2,4),\n",
    "            (3,5)])\n",
    "\n",
    "print(a)\n",
    "print()\n",
    "\n",
    "# inverse matrix\n",
    "a_inv = np.linalg.inv(a)\n",
    "\n",
    "print(a_inv)\n",
    "print()\n",
    "\n",
    "# determinan matrix\n",
    "det_a = np.linalg.det(a)\n",
    "det_a_inv = np.linalg.det(a_inv)\n",
    "print(det_a)\n",
    "print(det_a_inv)\n"
   ]
  },
  {
   "cell_type": "markdown",
   "id": "c12c4127",
   "metadata": {},
   "source": [
    "# Contoh SPLDV"
   ]
  },
  {
   "cell_type": "code",
   "execution_count": 18,
   "id": "3645d6db",
   "metadata": {},
   "outputs": [
    {
     "name": "stdout",
     "output_type": "stream",
     "text": [
      "[[2 3]\n",
      " [1 2]]\n",
      "[23 14]\n",
      "\n",
      "[4. 5.]\n",
      "\n",
      "[4. 5.]\n"
     ]
    }
   ],
   "source": [
    "# 2a + 3b = 23 and a + 2b = 14\n",
    "\n",
    "A = np.array([(2,3),\n",
    "              (1,2)])\n",
    "\n",
    "Y = np.array([23,14])\n",
    "\n",
    "print(A)\n",
    "print(Y)\n",
    "print()\n",
    "\n",
    "A_inv = np.linalg.inv(A)\n",
    "\n",
    "# menyelesaikan persamaan linear\n",
    "X1 = np.dot(A_inv,Y)\n",
    "print(X1)\n",
    "print()\n",
    "\n",
    "# cara lain\n",
    "X2 = np.linalg.solve(A,Y)\n",
    "print(X2)\n"
   ]
  }
 ],
 "metadata": {
  "kernelspec": {
   "display_name": "Python 3 (ipykernel)",
   "language": "python",
   "name": "python3"
  },
  "language_info": {
   "codemirror_mode": {
    "name": "ipython",
    "version": 3
   },
   "file_extension": ".py",
   "mimetype": "text/x-python",
   "name": "python",
   "nbconvert_exporter": "python",
   "pygments_lexer": "ipython3",
   "version": "3.11.5"
  }
 },
 "nbformat": 4,
 "nbformat_minor": 5
}
