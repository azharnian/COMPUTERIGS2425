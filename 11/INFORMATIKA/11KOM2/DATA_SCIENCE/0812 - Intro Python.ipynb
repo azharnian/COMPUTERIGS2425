{
 "cells": [
  {
   "cell_type": "code",
   "execution_count": 1,
   "id": "6535eb64",
   "metadata": {
    "scrolled": true
   },
   "outputs": [
    {
     "name": "stdout",
     "output_type": "stream",
     "text": [
      "Hello, notebook\n"
     ]
    }
   ],
   "source": [
    "print(\"Hello, notebook\")"
   ]
  },
  {
   "cell_type": "code",
   "execution_count": 2,
   "id": "5574b026",
   "metadata": {},
   "outputs": [
    {
     "name": "stdout",
     "output_type": "stream",
     "text": [
      "2.0\n",
      "2.0\n"
     ]
    }
   ],
   "source": [
    "from math import sqrt\n",
    "\n",
    "print(sqrt(4))\n",
    "print(4 ** 0.5)"
   ]
  },
  {
   "cell_type": "code",
   "execution_count": null,
   "id": "0b040fc3",
   "metadata": {},
   "outputs": [],
   "source": []
  }
 ],
 "metadata": {
  "kernelspec": {
   "display_name": "Python 3 (ipykernel)",
   "language": "python",
   "name": "python3"
  },
  "language_info": {
   "codemirror_mode": {
    "name": "ipython",
    "version": 3
   },
   "file_extension": ".py",
   "mimetype": "text/x-python",
   "name": "python",
   "nbconvert_exporter": "python",
   "pygments_lexer": "ipython3",
   "version": "3.11.5"
  }
 },
 "nbformat": 4,
 "nbformat_minor": 5
}
